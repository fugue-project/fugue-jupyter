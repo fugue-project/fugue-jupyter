{
 "cells": [
  {
   "cell_type": "markdown",
   "id": "starting-collector",
   "metadata": {},
   "source": [
    "# The simplest case, running using NativeExecutionEngine"
   ]
  },
  {
   "cell_type": "code",
   "execution_count": 1,
   "id": "pediatric-couple",
   "metadata": {
    "ExecuteTime": {
     "end_time": "2022-11-19T01:36:48.736332Z",
     "start_time": "2022-11-19T01:36:46.008483Z"
    },
    "execution": {
     "iopub.execute_input": "2022-11-19T02:01:39.687324Z",
     "iopub.status.busy": "2022-11-19T02:01:39.686917Z",
     "iopub.status.idle": "2022-11-19T02:01:42.432119Z",
     "shell.execute_reply": "2022-11-19T02:01:42.430819Z"
    }
   },
   "outputs": [
    {
     "data": {
      "text/html": [
       "<div>\n",
       "<style scoped>\n",
       "    .dataframe tbody tr th:only-of-type {\n",
       "        vertical-align: middle;\n",
       "    }\n",
       "\n",
       "    .dataframe tbody tr th {\n",
       "        vertical-align: top;\n",
       "    }\n",
       "\n",
       "    .dataframe thead th {\n",
       "        text-align: right;\n",
       "    }\n",
       "</style>\n",
       "<table border=\"1\" class=\"dataframe\">\n",
       "  <thead>\n",
       "    <tr style=\"text-align: right;\">\n",
       "      <th></th>\n",
       "      <th>a:int</th>\n",
       "    </tr>\n",
       "  </thead>\n",
       "  <tbody>\n",
       "    <tr>\n",
       "      <th>0</th>\n",
       "      <td>0</td>\n",
       "    </tr>\n",
       "  </tbody>\n",
       "</table>\n",
       "</div>\n",
       "<font size=\"-1\">ArrayDataFrame: a:int</font>"
      ],
      "text/plain": [
       "<IPython.core.display.HTML object>"
      ]
     },
     "metadata": {},
     "output_type": "display_data"
    }
   ],
   "source": [
    "%%fsql\n",
    "CREATE [[0]] SCHEMA a:int\n",
    "PRINT"
   ]
  },
  {
   "cell_type": "markdown",
   "id": "separated-attitude",
   "metadata": {},
   "source": [
    "# Test %%fsql parsing"
   ]
  },
  {
   "cell_type": "code",
   "execution_count": 2,
   "id": "arctic-cooperative",
   "metadata": {
    "ExecuteTime": {
     "end_time": "2022-11-19T01:36:58.829491Z",
     "start_time": "2022-11-19T01:36:58.562010Z"
    },
    "execution": {
     "iopub.execute_input": "2022-11-19T02:01:42.436112Z",
     "iopub.status.busy": "2022-11-19T02:01:42.435668Z",
     "iopub.status.idle": "2022-11-19T02:01:42.650676Z",
     "shell.execute_reply": "2022-11-19T02:01:42.649601Z"
    }
   },
   "outputs": [],
   "source": [
    "from fugue_jupyter.utils import _FugueSQLMagics\n",
    "from fugue import register_execution_engine, register_default_execution_engine\n",
    "from fugue import NativeExecutionEngine\n",
    "from pytest import raises\n",
    "\n",
    "\n",
    "class MockEngine(NativeExecutionEngine):\n",
    "    def __init__(self, conf=None):\n",
    "        super().__init__(conf=conf)\n",
    "        \n",
    "def test_fugue_sql_magic():\n",
    "    register_execution_engine(\"m\", lambda conf, **kwargs: MockEngine(conf=conf))\n",
    "    m = _FugueSQLMagics(None, {\"a\": 1}, {\"b\": 2})\n",
    "    e = m.get_engine(\"   \", {})\n",
    "    assert isinstance(e, NativeExecutionEngine)\n",
    "    assert 1 == e.conf[\"a\"]\n",
    "    assert 2 == e.conf[\"b\"]\n",
    "\n",
    "    e = m.get_engine(' {\"a\":2,\"c\":3, \"b\":2}  ', {})\n",
    "    assert isinstance(e, NativeExecutionEngine)\n",
    "    assert 2 == e.conf[\"a\"]\n",
    "    assert 2 == e.conf[\"b\"]\n",
    "    assert 3 == e.conf[\"c\"]\n",
    "\n",
    "    with raises(ValueError):\n",
    "        e = m.get_engine(' {\"a\":2,\"b\":1}  ', {})\n",
    "\n",
    "    e = m.get_engine(\" m   \", {})\n",
    "    assert isinstance(e, MockEngine)\n",
    "    assert 1 == e.conf[\"a\"]\n",
    "    assert 2 == e.conf[\"b\"]\n",
    "\n",
    "    e = m.get_engine(' m  {\"a\":2,\"c\":3, \"b\":2}  ', {})\n",
    "    assert isinstance(e, MockEngine)\n",
    "    assert 2 == e.conf[\"a\"]\n",
    "    assert 2 == e.conf[\"b\"]\n",
    "    assert 3 == e.conf[\"c\"]\n",
    "\n",
    "test_fugue_sql_magic()"
   ]
  },
  {
   "cell_type": "markdown",
   "id": "sweet-andrews",
   "metadata": {},
   "source": [
    "# Run with a different execution engine\n",
    "\n",
    "This engine is defined in previous test"
   ]
  },
  {
   "cell_type": "code",
   "execution_count": 3,
   "id": "distinguished-softball",
   "metadata": {
    "ExecuteTime": {
     "end_time": "2022-11-19T01:37:11.004431Z",
     "start_time": "2022-11-19T01:37:10.988187Z"
    },
    "execution": {
     "iopub.execute_input": "2022-11-19T02:01:42.654652Z",
     "iopub.status.busy": "2022-11-19T02:01:42.654252Z",
     "iopub.status.idle": "2022-11-19T02:01:42.669956Z",
     "shell.execute_reply": "2022-11-19T02:01:42.669242Z"
    }
   },
   "outputs": [
    {
     "data": {
      "text/html": [
       "<div>\n",
       "<style scoped>\n",
       "    .dataframe tbody tr th:only-of-type {\n",
       "        vertical-align: middle;\n",
       "    }\n",
       "\n",
       "    .dataframe tbody tr th {\n",
       "        vertical-align: top;\n",
       "    }\n",
       "\n",
       "    .dataframe thead th {\n",
       "        text-align: right;\n",
       "    }\n",
       "</style>\n",
       "<table border=\"1\" class=\"dataframe\">\n",
       "  <thead>\n",
       "    <tr style=\"text-align: right;\">\n",
       "      <th></th>\n",
       "      <th>a:int</th>\n",
       "    </tr>\n",
       "  </thead>\n",
       "  <tbody>\n",
       "    <tr>\n",
       "      <th>0</th>\n",
       "      <td>0</td>\n",
       "    </tr>\n",
       "  </tbody>\n",
       "</table>\n",
       "</div>\n",
       "<font size=\"-1\">ArrayDataFrame: a:int</font>"
      ],
      "text/plain": [
       "<IPython.core.display.HTML object>"
      ]
     },
     "metadata": {},
     "output_type": "display_data"
    }
   ],
   "source": [
    "%%fsql m\n",
    "CREATE [[0]] SCHEMA a:int\n",
    "PRINT"
   ]
  },
  {
   "cell_type": "markdown",
   "id": "christian-stake",
   "metadata": {},
   "source": [
    "# Run with a different SQL engine"
   ]
  },
  {
   "cell_type": "code",
   "execution_count": 4,
   "id": "determined-diana",
   "metadata": {
    "ExecuteTime": {
     "end_time": "2022-11-19T01:37:28.805676Z",
     "start_time": "2022-11-19T01:37:28.790837Z"
    },
    "execution": {
     "iopub.execute_input": "2022-11-19T02:01:42.687830Z",
     "iopub.status.busy": "2022-11-19T02:01:42.687551Z",
     "iopub.status.idle": "2022-11-19T02:01:42.702871Z",
     "shell.execute_reply": "2022-11-19T02:01:42.702130Z"
    }
   },
   "outputs": [
    {
     "data": {
      "text/html": [
       "<div>\n",
       "<style scoped>\n",
       "    .dataframe tbody tr th:only-of-type {\n",
       "        vertical-align: middle;\n",
       "    }\n",
       "\n",
       "    .dataframe tbody tr th {\n",
       "        vertical-align: top;\n",
       "    }\n",
       "\n",
       "    .dataframe thead th {\n",
       "        text-align: right;\n",
       "    }\n",
       "</style>\n",
       "<table border=\"1\" class=\"dataframe\">\n",
       "  <thead>\n",
       "    <tr style=\"text-align: right;\">\n",
       "      <th></th>\n",
       "      <th>a:int</th>\n",
       "    </tr>\n",
       "  </thead>\n",
       "  <tbody>\n",
       "    <tr>\n",
       "      <th>0</th>\n",
       "      <td>0</td>\n",
       "    </tr>\n",
       "  </tbody>\n",
       "</table>\n",
       "</div>\n",
       "<font size=\"-1\">ArrayDataFrame: a:int</font>"
      ],
      "text/plain": [
       "<IPython.core.display.HTML object>"
      ]
     },
     "metadata": {},
     "output_type": "display_data"
    }
   ],
   "source": [
    "%%fsql native+sqlite\n",
    "CREATE [[0]] SCHEMA a:int\n",
    "PRINT"
   ]
  },
  {
   "cell_type": "markdown",
   "id": "accurate-wallpaper",
   "metadata": {},
   "source": [
    "# Communicate between fsql cells\n",
    "\n",
    "You must use `yield` to communicate betweem cells. That means all the intermediate data will be stored in file system. So you should also specify `fugue.workflow.checkpoint.path`."
   ]
  },
  {
   "cell_type": "code",
   "execution_count": 5,
   "id": "governmental-delivery",
   "metadata": {
    "ExecuteTime": {
     "end_time": "2022-11-19T01:37:37.075224Z",
     "start_time": "2022-11-19T01:37:37.063484Z"
    },
    "execution": {
     "iopub.execute_input": "2022-11-19T02:01:42.706179Z",
     "iopub.status.busy": "2022-11-19T02:01:42.705928Z",
     "iopub.status.idle": "2022-11-19T02:01:42.720268Z",
     "shell.execute_reply": "2022-11-19T02:01:42.719503Z"
    }
   },
   "outputs": [],
   "source": [
    "%%fsql native\n",
    "a = CREATE [[0]] SCHEMA a:int YIELD DATAFRAME"
   ]
  },
  {
   "cell_type": "code",
   "execution_count": 6,
   "id": "peripheral-commander",
   "metadata": {
    "ExecuteTime": {
     "end_time": "2022-11-19T01:39:39.576271Z",
     "start_time": "2022-11-19T01:39:39.513774Z"
    },
    "execution": {
     "iopub.execute_input": "2022-11-19T02:01:42.723977Z",
     "iopub.status.busy": "2022-11-19T02:01:42.723642Z",
     "iopub.status.idle": "2022-11-19T02:01:43.003648Z",
     "shell.execute_reply": "2022-11-19T02:01:43.002826Z"
    }
   },
   "outputs": [
    {
     "name": "stdout",
     "output_type": "stream",
     "text": [
      "ANTLR runtime and generated code versions disagree: 4.11.1!=4.10.1\n",
      "ANTLR runtime and generated code versions disagree: 4.11.1!=4.10.1\n"
     ]
    },
    {
     "data": {
      "text/html": [
       "<div>\n",
       "<style scoped>\n",
       "    .dataframe tbody tr th:only-of-type {\n",
       "        vertical-align: middle;\n",
       "    }\n",
       "\n",
       "    .dataframe tbody tr th {\n",
       "        vertical-align: top;\n",
       "    }\n",
       "\n",
       "    .dataframe thead th {\n",
       "        text-align: right;\n",
       "    }\n",
       "</style>\n",
       "<table border=\"1\" class=\"dataframe\">\n",
       "  <thead>\n",
       "    <tr style=\"text-align: right;\">\n",
       "      <th></th>\n",
       "      <th>a:int</th>\n",
       "    </tr>\n",
       "  </thead>\n",
       "  <tbody>\n",
       "    <tr>\n",
       "      <th>0</th>\n",
       "      <td>0</td>\n",
       "    </tr>\n",
       "  </tbody>\n",
       "</table>\n",
       "</div>\n",
       "<font size=\"-1\">PandasDataFrame: a:int</font>"
      ],
      "text/plain": [
       "<IPython.core.display.HTML object>"
      ]
     },
     "metadata": {},
     "output_type": "display_data"
    }
   ],
   "source": [
    "%%fsql native\n",
    "SELECT * FROM a\n",
    "PRINT"
   ]
  },
  {
   "cell_type": "code",
   "execution_count": 7,
   "id": "empty-innocent",
   "metadata": {
    "ExecuteTime": {
     "end_time": "2022-11-19T01:38:13.860044Z",
     "start_time": "2022-11-19T01:38:13.855591Z"
    },
    "execution": {
     "iopub.execute_input": "2022-11-19T02:01:43.007128Z",
     "iopub.status.busy": "2022-11-19T02:01:43.006669Z",
     "iopub.status.idle": "2022-11-19T02:01:43.025588Z",
     "shell.execute_reply": "2022-11-19T02:01:43.024824Z"
    }
   },
   "outputs": [
    {
     "name": "stderr",
     "output_type": "stream",
     "text": [
      "/usr/local/lib/python3.8/site-packages/fugue_sql/__init__.py:8: UserWarning: fsql and FugueSQLWorkflow now should be imported directly from fugue, fugue_sql will be removed in 0.9.0\n",
      "  warnings.warn(\n"
     ]
    },
    {
     "data": {
      "application/javascript": [
       "\n",
       "require([\"codemirror/lib/codemirror\"]);\n",
       "function set(str) {\n",
       "    var obj = {}, words = str.split(\" \");\n",
       "    for (var i = 0; i < words.length; ++i) obj[words[i]] = true;\n",
       "    return obj;\n",
       "  }\n",
       "var fugue_keywords = \"fill hash rand even presort persist broadcast params process output outtransform rowcount concurrency prepartition zip print title save append parquet csv json single checkpoint weak strong deterministic yield connect sample seed take sub callback dataframe file\";\n",
       "CodeMirror.defineMIME(\"text/x-fsql\", {\n",
       "    name: \"sql\",\n",
       "    keywords: set(fugue_keywords + \" add after all alter analyze and anti archive array as asc at between bucket buckets by cache cascade case cast change clear cluster clustered codegen collection column columns comment commit compact compactions compute concatenate cost create cross cube current current_date current_timestamp database databases data dbproperties defined delete delimited deny desc describe dfs directories distinct distribute drop else end escaped except exchange exists explain export extended external false fields fileformat first following for format formatted from full function functions global grant group grouping having if ignore import in index indexes inner inpath inputformat insert intersect interval into is items join keys last lateral lazy left like limit lines list load local location lock locks logical macro map minus msck natural no not null nulls of on optimize option options or order out outer outputformat over overwrite partition partitioned partitions percent preceding principals purge range recordreader recordwriter recover reduce refresh regexp rename repair replace reset restrict revoke right rlike role roles rollback rollup row rows schema schemas select semi separated serde serdeproperties set sets show skewed sort sorted start statistics stored stratify struct table tables tablesample tblproperties temp temporary terminated then to touch transaction transactions transform true truncate unarchive unbounded uncache union unlock unset use using values view when where window with\"),\n",
       "    builtin: set(\"date datetime tinyint smallint int bigint boolean float double string binary timestamp decimal array map struct uniontype delimited serde sequencefile textfile rcfile inputformat outputformat\"),\n",
       "    atoms: set(\"false true null\"),\n",
       "    operatorChars: /^[*\\/+\\-%<>!=~&|^]/,\n",
       "    dateSQL: set(\"time\"),\n",
       "    support: set(\"ODBCdotTable doubleQuote zerolessFloat\")\n",
       "  });\n",
       "\n",
       "CodeMirror.modeInfo.push( {\n",
       "            name: \"Fugue SQL\",\n",
       "            mime: \"text/x-fsql\",\n",
       "            mode: \"sql\"\n",
       "          } );\n",
       "\n",
       "require(['notebook/js/codecell'], function(codecell) {\n",
       "    codecell.CodeCell.options_default.highlight_modes['magic_text/x-fsql'] = {'reg':[/%%fsql/]} ;\n",
       "    Jupyter.notebook.events.on('kernel_ready.Kernel', function(){\n",
       "    Jupyter.notebook.get_cells().map(function(cell){\n",
       "        if (cell.cell_type == 'code'){ cell.auto_highlight(); } }) ;\n",
       "    });\n",
       "  });\n"
      ],
      "text/plain": [
       "<IPython.core.display.Javascript object>"
      ]
     },
     "metadata": {},
     "output_type": "display_data"
    }
   ],
   "source": [
    "from fugue_notebook import setup\n",
    "\n",
    "setup(fsql_ignore_case=True)"
   ]
  },
  {
   "cell_type": "code",
   "execution_count": 8,
   "id": "logical-contract",
   "metadata": {
    "ExecuteTime": {
     "end_time": "2022-11-19T01:38:14.530951Z",
     "start_time": "2022-11-19T01:38:14.469548Z"
    },
    "execution": {
     "iopub.execute_input": "2022-11-19T02:01:43.029120Z",
     "iopub.status.busy": "2022-11-19T02:01:43.028820Z",
     "iopub.status.idle": "2022-11-19T02:01:43.091570Z",
     "shell.execute_reply": "2022-11-19T02:01:43.090739Z"
    }
   },
   "outputs": [
    {
     "name": "stdout",
     "output_type": "stream",
     "text": [
      "ANTLR runtime and generated code versions disagree: 4.11.1!=4.10.1\n",
      "ANTLR runtime and generated code versions disagree: 4.11.1!=4.10.1\n"
     ]
    },
    {
     "data": {
      "text/html": [
       "<div>\n",
       "<style scoped>\n",
       "    .dataframe tbody tr th:only-of-type {\n",
       "        vertical-align: middle;\n",
       "    }\n",
       "\n",
       "    .dataframe tbody tr th {\n",
       "        vertical-align: top;\n",
       "    }\n",
       "\n",
       "    .dataframe thead th {\n",
       "        text-align: right;\n",
       "    }\n",
       "</style>\n",
       "<table border=\"1\" class=\"dataframe\">\n",
       "  <thead>\n",
       "    <tr style=\"text-align: right;\">\n",
       "      <th></th>\n",
       "      <th>a:int</th>\n",
       "    </tr>\n",
       "  </thead>\n",
       "  <tbody>\n",
       "    <tr>\n",
       "      <th>0</th>\n",
       "      <td>0</td>\n",
       "    </tr>\n",
       "  </tbody>\n",
       "</table>\n",
       "</div>\n",
       "<font size=\"-1\">PandasDataFrame: a:int</font>"
      ],
      "text/plain": [
       "<IPython.core.display.HTML object>"
      ]
     },
     "metadata": {},
     "output_type": "display_data"
    }
   ],
   "source": [
    "%%fsql native\n",
    "select * from a\n",
    "print"
   ]
  },
  {
   "cell_type": "code",
   "execution_count": null,
   "id": "industrial-compilation",
   "metadata": {},
   "outputs": [],
   "source": []
  }
 ],
 "metadata": {
  "interpreter": {
   "hash": "949777d72b0d2535278d3dc13498b2535136f6dfe0678499012e853ee9abcab1"
  },
  "kernelspec": {
   "display_name": "Python 3 (ipykernel)",
   "language": "python",
   "name": "python3"
  },
  "language_info": {
   "codemirror_mode": {
    "name": "ipython",
    "version": 3
   },
   "file_extension": ".py",
   "mimetype": "text/x-python",
   "name": "python",
   "nbconvert_exporter": "python",
   "pygments_lexer": "ipython3",
   "version": "3.8.13"
  }
 },
 "nbformat": 4,
 "nbformat_minor": 5
}
